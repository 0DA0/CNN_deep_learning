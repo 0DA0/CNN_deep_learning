{
 "cells": [
  {
   "cell_type": "code",
   "execution_count": null,
   "id": "12a3677e",
   "metadata": {},
   "outputs": [],
   "source": [
    "from google.colab import drive\n",
    "drive.mount('/content/drive')"
   ]
  },
  {
   "cell_type": "code",
   "execution_count": null,
   "id": "2b7243d8",
   "metadata": {},
   "outputs": [],
   "source": [
    "%cd /content/drive/MyDrive/Colab Notebooks"
   ]
  },
  {
   "cell_type": "code",
   "execution_count": null,
   "id": "6aa018c1",
   "metadata": {},
   "outputs": [],
   "source": [
    "\n",
    "# IMPORTANT: RUN THIS CELL IN ORDER TO IMPORT YOUR KAGGLE DATA SOURCES,\n",
    "# THEN FEEL FREE TO DELETE THIS CELL.\n",
    "# NOTE: THIS NOTEBOOK ENVIRONMENT DIFFERS FROM KAGGLE'S PYTHON\n",
    "# ENVIRONMENT SO THERE MAY BE MISSING LIBRARIES USED BY YOUR\n",
    "# NOTEBOOK.\n",
    "import kagglehub\n",
    "kmader_skin_cancer_mnist_ham10000_path = kagglehub.dataset_download('kmader/skin-cancer-mnist-ham10000')\n",
    "\n",
    "print('Data source import complete.')"
   ]
  },
  {
   "cell_type": "code",
   "execution_count": null,
   "id": "fe028775",
   "metadata": {},
   "outputs": [],
   "source": [
    "kmader_skin_cancer_mnist_ham10000_path"
   ]
  },
  {
   "cell_type": "code",
   "execution_count": null,
   "id": "8f3d89d5",
   "metadata": {},
   "outputs": [],
   "source": [
    "!pip install imutils\n",
    "!pip install efficientnet"
   ]
  },
  {
   "cell_type": "code",
   "execution_count": null,
   "id": "b8520a0e",
   "metadata": {},
   "outputs": [],
   "source": [
    "import pandas as pd\n",
    "import numpy as np\n",
    "from tqdm import tqdm\n",
    "import cv2\n",
    "import os\n",
    "import shutil\n",
    "import itertools\n",
    "import imutils\n",
    "import matplotlib.pyplot as plt\n",
    "from sklearn.preprocessing import LabelBinarizer\n",
    "from sklearn.model_selection import train_test_split\n",
    "from sklearn.metrics import accuracy_score, confusion_matrix\n",
    "\n",
    "\n",
    "import matplotlib as plt\n",
    "from tensorflow.keras.preprocessing.image import ImageDataGenerator\n",
    "from efficientnet.tfkeras import EfficientNetB0\n",
    "from tensorflow.keras import layers\n",
    "from tensorflow.keras.models import Model, Sequential\n",
    "from tensorflow.keras.optimizers import Adam, RMSprop\n",
    "from tensorflow.keras.callbacks import EarlyStopping\n",
    "from tensorflow.keras.preprocessing import image\n",
    "from keras.layers import Dense, Dropout, Flatten, BatchNormalization\n",
    "import warnings\n",
    "warnings.filterwarnings('ignore')"
   ]
  },
  {
   "cell_type": "code",
   "execution_count": null,
   "id": "c09331cd",
   "metadata": {},
   "outputs": [],
   "source": [
    "!ls /root/.cache/kagglehub/datasets/kmader/skin-cancer-mnist-ham10000/versions/2"
   ]
  },
  {
   "cell_type": "code",
   "execution_count": null,
   "id": "41f78721",
   "metadata": {},
   "outputs": [],
   "source": [
    "skinDf=pd.read_csv(kmader_skin_cancer_mnist_ham10000_path+'/HAM10000_metadata.csv')\n",
    "size=32\n",
    "skinDf"
   ]
  },
  {
   "cell_type": "code",
   "execution_count": null,
   "id": "1e74b1a1",
   "metadata": {},
   "outputs": [],
   "source": [
    "from sklearn.preprocessing import LabelEncoder\n",
    "labelEncoder = LabelEncoder()\n",
    "labelEncoder.fit(skinDf['dx'])\n",
    "skinDf['label']=labelEncoder.transform(skinDf['dx'])"
   ]
  },
  {
   "cell_type": "code",
   "execution_count": null,
   "id": "233452cf",
   "metadata": {},
   "outputs": [],
   "source": [
    "import plotly.express as px\n",
    "fig = px.bar(skinDf['dx'].value_counts(), x=skinDf['dx'].value_counts().index, y=skinDf['dx'].value_counts().values,\n",
    "             labels={'x': 'Class', 'y': 'Count'}, title='Distribution of Classes')\n",
    "fig.show()\n",
    "\n",
    "# Age distribution\n",
    "fig = px.histogram(skinDf, x='age', title='Age Distribution')\n",
    "fig.show()\n",
    "\n",
    "# Sex distribution\n",
    "fig = px.bar(skinDf['sex'].value_counts(), x=skinDf['sex'].value_counts().index, y=skinDf['sex'].value_counts().values,\n",
    "             labels={'x': 'Sex', 'y': 'Count'}, title='Sex Distribution')\n",
    "fig.show()\n",
    "\n",
    "# Localization distribution\n",
    "fig = px.bar(skinDf['localization'].value_counts(), x=skinDf['localization'].value_counts().index, y=skinDf['localization'].value_counts().values,\n",
    "             labels={'x': 'Localization', 'y': 'Count'}, title='Localization Distribution')\n",
    "fig.show()"
   ]
  },
  {
   "cell_type": "code",
   "execution_count": null,
   "id": "64927ec8",
   "metadata": {},
   "outputs": [],
   "source": [
    "from sklearn.utils import resample\n",
    "dfs_by_label_resampled = {}\n",
    "n_samples = 800\n",
    "\n",
    "for label in range(7):\n",
    "    df_label_resampled = resample(skinDf[skinDf['label'] == label], n_samples=n_samples, replace=True, random_state=42)\n",
    "\n",
    "    # Append the resampled DataFrame to the dictionary\n",
    "    dfs_by_label_resampled[label] = df_label_resampled\n",
    "\n",
    "balanced_df = pd.concat(dfs_by_label_resampled.values())\n",
    "\n",
    "# Shuffle the rows\n",
    "balanced_df = balanced_df.sample(frac=1, random_state=42).reset_index(drop=True)\n",
    "balanced_df['label'].value_counts()"
   ]
  },
  {
   "cell_type": "code",
   "execution_count": null,
   "id": "84b1ae7d",
   "metadata": {},
   "outputs": [],
   "source": [
    "from glob import glob\n",
    "from PIL import Image\n",
    "\n",
    "imgPath={os.path.splitext(os.path.basename(x))[0]: x\n",
    "                            for x in glob(os.path.join('/root/.cache/kagglehub/datasets/kmader/skin-cancer-mnist-ham10000/versions/2','*','*.jpg'))}\n",
    "\n",
    "size = (64, 64)\n",
    "\n",
    "\n",
    "balanced_df['image'] = balanced_df['image_id'].map(imgPath.get).map(lambda x: np.asarray(Image.open(x).resize(size)))"
   ]
  },
  {
   "cell_type": "code",
   "execution_count": null,
   "id": "02ad242a",
   "metadata": {},
   "outputs": [],
   "source": [
    "import plotly.graph_objs as go\n",
    "from plotly.subplots import make_subplots\n",
    "sampled_images = balanced_df['image'].sample(6, random_state=42)\n",
    "size = (64, 64)\n",
    "sampled_images = [Image.fromarray(img).resize(size) for img in sampled_images]\n",
    "\n",
    "sampled_images = [np.array(img) for img in sampled_images]\n",
    "\n",
    "fig = make_subplots(rows=2, cols=3, subplot_titles=(\"Image 1\", \"Image 2\", \"Image 3\", \"Image 4\", \"Image 5\", \"Image 6\"))\n",
    "\n",
    "for i, img in enumerate(sampled_images, start=1):\n",
    "    fig.add_trace(go.Image(z=img), row=(i-1) // 3 + 1, col=(i-1) % 3 + 1)\n",
    "\n",
    "fig.update_layout(\n",
    "    title=\"Sample Images\",\n",
    "    width=800,\n",
    "    height=600,\n",
    "    margin=dict(l=20, r=20, t=60, b=20),\n",
    ")\n",
    "\n",
    "fig.show()"
   ]
  },
  {
   "cell_type": "code",
   "execution_count": null,
   "id": "a5c76565",
   "metadata": {},
   "outputs": [],
   "source": [
    "from keras.utils import to_categorical\n",
    "x=np.asarray(balanced_df['image'].to_list())\n",
    "x=x/255\n",
    "y=balanced_df['label']\n",
    "y=to_categorical(y,num_classes=7)\n",
    "x_train,x_test,y_train,y_test=train_test_split(x,y,test_size=.2,random_state=42,shuffle=True)"
   ]
  },
  {
   "cell_type": "code",
   "execution_count": null,
   "id": "eecb1b96",
   "metadata": {},
   "outputs": [],
   "source": [
    "model = Sequential()\n",
    "model.add(layers.Conv2D(32, (3, 3), activation='relu', padding='same', kernel_initializer='he_normal',input_shape=(64,64,3)))\n",
    "model.add(layers.MaxPooling2D())\n",
    "model.add(BatchNormalization())\n",
    "model.add(layers.Conv2D(64, (3, 3), activation='relu', padding='same', kernel_initializer='he_normal'))\n",
    "model.add(layers.Conv2D(64, (3, 3), activation='relu', padding='same', kernel_initializer='he_normal'))\n",
    "model.add(layers.MaxPooling2D())\n",
    "model.add(layers.BatchNormalization())\n",
    "model.add(layers.Conv2D(128, (3, 3), activation='relu', padding='same', kernel_initializer='he_normal'))\n",
    "model.add(layers.Conv2D(128, (3, 3), activation='relu', padding='same', kernel_initializer='he_normal'))\n",
    "model.add(layers.MaxPooling2D())\n",
    "model.add(layers.BatchNormalization())\n",
    "model.add(Flatten())\n",
    "model.add(Dropout(rate=0.5))\n",
    "model.add(Dense(256, activation='relu', kernel_initializer='he_normal'))\n",
    "model.add(Dropout(rate=0.5))\n",
    "model.add(Dense(128, activation='relu', kernel_initializer='he_normal'))\n",
    "model.add(Dropout(rate=0.5))\n",
    "model.add(Dense(32, activation='relu', kernel_initializer='he_normal', ))\n",
    "model.add(BatchNormalization())\n",
    "\n",
    "model.add(Dense(units=7, activation='softmax', kernel_initializer='glorot_uniform', name='classifier'))\n",
    "model.compile(Adam(learning_rate=0.001), loss='categorical_crossentropy', metrics=['accuracy'])\n",
    "history = model.fit(x_train ,\n",
    "                    y_train ,\n",
    "                    epochs=50 ,\n",
    "                    batch_size=8,\n",
    "                    validation_data=(x_test , y_test) ,\n",
    "                    )"
   ]
  },
  {
   "cell_type": "code",
   "execution_count": null,
   "id": "9dad7b5f",
   "metadata": {},
   "outputs": [],
   "source": [
    "test_loss, test_accuracy = model.evaluate(x_test, y_test)\n",
    "\n",
    "print('Test Accuracy:', test_accuracy)\n",
    "print('Test Loss:', test_loss)"
   ]
  },
  {
   "cell_type": "code",
   "execution_count": null,
   "id": "6e219162",
   "metadata": {},
   "outputs": [],
   "source": [
    "import matplotlib.pyplot as plt"
   ]
  },
  {
   "cell_type": "code",
   "execution_count": null,
   "id": "de787767",
   "metadata": {},
   "outputs": [],
   "source": [
    "tr_acc = history.history['accuracy']\n",
    "tr_loss = history.history['loss']\n",
    "val_acc = history.history['val_accuracy']\n",
    "val_loss = history.history['val_loss']\n",
    "\n",
    "epochs = [i+1 for i in range(len(tr_acc))]\n",
    "\n",
    "plt.figure(figsize=(20, 8))\n",
    "plt.subplot(1, 2, 1)\n",
    "plt.plot(epochs, tr_loss, 'r', label='Train Loss')\n",
    "plt.plot(epochs, val_loss, 'g', label='Valid Loss')\n",
    "plt.title('Loss')\n",
    "plt.legend()\n",
    "plt.xlabel('Epochs')\n",
    "plt.ylabel('Loss')\n",
    "\n",
    "plt.subplot(1, 2, 2)\n",
    "plt.plot(epochs, tr_acc, 'r', label='Train Accuracy')\n",
    "plt.plot(epochs, val_acc, 'g', label='Valid Accuracy')\n",
    "plt.title('Accuracy')\n",
    "plt.legend()\n",
    "plt.xlabel('Epochs')\n",
    "plt.ylabel('Accuracy')\n",
    "\n",
    "plt.tight_layout()\n",
    "plt.show()\n",
    "\n",
    "co pilot"
   ]
  }
 ],
 "metadata": {
  "kernelspec": {
   "display_name": "Python 3 (ipykernel)",
   "language": "python",
   "name": "python3"
  },
  "language_info": {
   "codemirror_mode": {
    "name": "ipython",
    "version": 3
   },
   "file_extension": ".py",
   "mimetype": "text/x-python",
   "name": "python",
   "nbconvert_exporter": "python",
   "pygments_lexer": "ipython3",
   "version": "3.11.5"
  }
 },
 "nbformat": 4,
 "nbformat_minor": 5
}
